{
 "cells": [
  {
   "cell_type": "code",
   "execution_count": 21,
   "metadata": {},
   "outputs": [
    {
     "name": "stdout",
     "output_type": "stream",
     "text": [
      "[{'text': 'Preheat the oven to 350 F.'}, {'text': 'Cook the penne 2 minutes less than package directions.'}, {'text': '(It will finish cooking in the oven.)'}, {'text': 'Rinse the pasta in cold water and set aside.'}, {'text': 'Combine the cooked pasta and the sauce in a medium bowl and mix carefully but thoroughly.'}, {'text': 'Scrape the pasta into the prepared baking dish.'}, {'text': 'Sprinkle the top with the cheeses and then the chili powder.'}, {'text': 'Bake, uncovered, for 20 minutes.'}, {'text': 'Let the mac and cheese sit for 5 minutes before serving.'}, {'text': 'Melt the butter in a heavy-bottomed saucepan over medium heat and whisk in the flour.'}, {'text': 'Continue whisking and cooking for 2 minutes.'}, {'text': 'Slowly add the milk, whisking constantly.'}, {'text': 'Cook until the sauce thickens, about 10 minutes, stirring frequently.'}, {'text': 'Remove from the heat.'}, {'text': 'Add the cheeses, salt, chili powder, and garlic powder.'}, {'text': 'Stir until the cheese is melted and all ingredients are incorporated, about 3 minutes.'}, {'text': 'Use immediately, or refrigerate for up to 3 days.'}, {'text': 'This sauce reheats nicely on the stove in a saucepan over low heat.'}, {'text': 'Stir frequently so the sauce doesnt scorch.'}, {'text': 'This recipe can be assembled before baking and frozen for up to 3 monthsjust be sure to use a freezer-to-oven pan and increase the baking time to 50 minutes.'}, {'text': 'One-half teaspoon of chipotle chili powder makes a spicy mac, so make sure your family and friends can handle it!'}, {'text': 'The proportion of pasta to cheese sauce is crucial to the success of the dish.'}, {'text': 'It will look like a lot of sauce for the pasta, but some of the liquid will be absorbed.'}]\n"
     ]
    }
   ],
   "source": [
    "firstRecipe = {\"ingredients\": [{\"text\": \"6 ounces penne\"}, {\"text\": \"2 cups Beechers Flagship Cheese Sauce (recipe follows)\"}, {\"text\": \"1 ounce Cheddar, grated (1/4 cup)\"}, {\"text\": \"1 ounce Gruyere cheese, grated (1/4 cup)\"}, {\"text\": \"1/4 to 1/2 teaspoon chipotle chili powder (see Note)\"}, {\"text\": \"1/4 cup (1/2 stick) unsalted butter\"}, {\"text\": \"1/3 cup all-purpose flour\"}, {\"text\": \"3 cups milk\"}, {\"text\": \"14 ounces semihard cheese (page 23), grated (about 3 1/2 cups)\"}, {\"text\": \"2 ounces semisoft cheese (page 23), grated (1/2 cup)\"}, {\"text\": \"1/2 teaspoon kosher salt\"}, {\"text\": \"1/4 to 1/2 teaspoon chipotle chili powder\"}, {\"text\": \"1/8 teaspoon garlic powder\"}, {\"text\": \"(makes about 4 cups)\"}], \"url\": \"http://www.epicurious.com/recipes/food/views/-world-s-best-mac-and-cheese-387747\", \"partition\": \"train\", \"title\": \"Worlds Best Mac and Cheese\", \"id\": \"000018c8a5\", \"instructions\": [{\"text\": \"Preheat the oven to 350 F.\"}, {\"text\": \"Cook the penne 2 minutes less than package directions.\"}, {\"text\": \"(It will finish cooking in the oven.)\"}, {\"text\": \"Rinse the pasta in cold water and set aside.\"}, {\"text\": \"Combine the cooked pasta and the sauce in a medium bowl and mix carefully but thoroughly.\"}, {\"text\": \"Scrape the pasta into the prepared baking dish.\"}, {\"text\": \"Sprinkle the top with the cheeses and then the chili powder.\"}, {\"text\": \"Bake, uncovered, for 20 minutes.\"}, {\"text\": \"Let the mac and cheese sit for 5 minutes before serving.\"}, {\"text\": \"Melt the butter in a heavy-bottomed saucepan over medium heat and whisk in the flour.\"}, {\"text\": \"Continue whisking and cooking for 2 minutes.\"}, {\"text\": \"Slowly add the milk, whisking constantly.\"}, {\"text\": \"Cook until the sauce thickens, about 10 minutes, stirring frequently.\"}, {\"text\": \"Remove from the heat.\"}, {\"text\": \"Add the cheeses, salt, chili powder, and garlic powder.\"}, {\"text\": \"Stir until the cheese is melted and all ingredients are incorporated, about 3 minutes.\"}, {\"text\": \"Use immediately, or refrigerate for up to 3 days.\"}, {\"text\": \"This sauce reheats nicely on the stove in a saucepan over low heat.\"}, {\"text\": \"Stir frequently so the sauce doesnt scorch.\"}, {\"text\": \"This recipe can be assembled before baking and frozen for up to 3 monthsjust be sure to use a freezer-to-oven pan and increase the baking time to 50 minutes.\"}, {\"text\": \"One-half teaspoon of chipotle chili powder makes a spicy mac, so make sure your family and friends can handle it!\"}, {\"text\": \"The proportion of pasta to cheese sauce is crucial to the success of the dish.\"}, {\"text\": \"It will look like a lot of sauce for the pasta, but some of the liquid will be absorbed.\"}]}\n",
    "print(firstRecipe[\"instructions\"])"
   ]
  },
  {
   "cell_type": "code",
   "execution_count": 83,
   "metadata": {},
   "outputs": [],
   "source": [
    "from nltk.stem.wordnet import WordNetLemmatizer\n",
    "from spacy.lang.en import English\n",
    "\n",
    "SUBJECTS = [\"nsubj\", \"nsubjpass\", \"csubj\", \"csubjpass\", \"agent\", \"expl\"]\n",
    "OBJECTS = [\"dobj\", \"dative\", \"attr\", \"oprd\", \"pobj\"]\n",
    "ADJECTIVES = [\"acomp\", \"advcl\", \"advmod\", \"amod\", \"appos\", \"nn\", \"nmod\", \"ccomp\", \"complm\",\n",
    "              \"hmod\", \"infmod\", \"xcomp\", \"rcmod\", \"poss\",\" possessive\", \"nummod\"]\n",
    "COMPOUNDS = [\"compound\"]\n",
    "PREPOSITIONS = [\"prep\"]\n",
    "\n",
    "def getSubsFromConjunctions(subs):\n",
    "    moreSubs = []\n",
    "    for sub in subs:\n",
    "        # rights is a generator\n",
    "        rights = list(sub.rights)\n",
    "        rightDeps = {tok.lower_ for tok in rights}\n",
    "        if \"and\" in rightDeps:\n",
    "            moreSubs.extend([tok for tok in rights if tok.dep_ in SUBJECTS or tok.pos_ == \"NOUN\"])\n",
    "            if len(moreSubs) > 0:\n",
    "                moreSubs.extend(getSubsFromConjunctions(moreSubs))\n",
    "    return moreSubs\n",
    "\n",
    "def getObjsFromConjunctions(objs):\n",
    "    moreObjs = []\n",
    "    for obj in objs:\n",
    "        # rights is a generator\n",
    "        rights = list(obj.rights)\n",
    "        rightDeps = {tok.lower_ for tok in rights}\n",
    "        if \"and\" in rightDeps:\n",
    "            moreObjs.extend([tok for tok in rights if tok.dep_ in OBJECTS or tok.pos_ == \"NOUN\"])\n",
    "            if len(moreObjs) > 0:\n",
    "                moreObjs.extend(getObjsFromConjunctions(moreObjs))\n",
    "    return moreObjs\n",
    "\n",
    "def getVerbsFromConjunctions(verbs):\n",
    "    moreVerbs = []\n",
    "    for verb in verbs:\n",
    "        rightDeps = {tok.lower_ for tok in verb.rights}\n",
    "        if \"and\" in rightDeps:\n",
    "            moreVerbs.extend([tok for tok in verb.rights if tok.pos_ == \"VERB\"])\n",
    "            if len(moreVerbs) > 0:\n",
    "                moreVerbs.extend(getVerbsFromConjunctions(moreVerbs))\n",
    "    return moreVerbs\n",
    "\n",
    "def findSubs(tok):\n",
    "    head = tok.head\n",
    "    while head.pos_ != \"VERB\" and head.pos_ != \"NOUN\" and head.head != head:\n",
    "        head = head.head\n",
    "    if head.pos_ == \"VERB\":\n",
    "        subs = [tok for tok in head.lefts if tok.dep_ == \"SUB\"]\n",
    "        if len(subs) > 0:\n",
    "            verbNegated = isNegated(head)\n",
    "            subs.extend(getSubsFromConjunctions(subs))\n",
    "            return subs, verbNegated\n",
    "        elif head.head != head:\n",
    "            return findSubs(head)\n",
    "    elif head.pos_ == \"NOUN\":\n",
    "        return [head], isNegated(tok)\n",
    "    return [], False\n",
    "\n",
    "def isNegated(tok):\n",
    "    negations = {\"no\", \"not\", \"n't\", \"never\", \"none\"}\n",
    "    for dep in list(tok.lefts) + list(tok.rights):\n",
    "        if dep.lower_ in negations:\n",
    "            return True\n",
    "    return False\n",
    "\n",
    "def findSVs(tokens):\n",
    "    svs = []\n",
    "    verbs = [tok for tok in tokens if tok.pos_ == \"VERB\"]\n",
    "    for v in verbs:\n",
    "        subs, verbNegated = getAllSubs(v)\n",
    "        if len(subs) > 0:\n",
    "            for sub in subs:\n",
    "                svs.append((sub.orth_, \"!\" + v.orth_ if verbNegated else v.orth_))\n",
    "    return svs\n",
    "\n",
    "def getObjsFromPrepositions(deps):\n",
    "    objs = []\n",
    "    for dep in deps:\n",
    "        if dep.pos_ == \"ADP\" and dep.dep_ == \"prep\":\n",
    "            objs.extend([tok for tok in dep.rights if tok.dep_  in OBJECTS or (tok.pos_ == \"PRON\" and tok.lower_ == \"me\")])\n",
    "    return objs\n",
    "\n",
    "def getAdjectives(toks):\n",
    "    toks_with_adjectives = []\n",
    "    for tok in toks:\n",
    "        adjs = [left for left in tok.lefts if left.dep_ in ADJECTIVES]\n",
    "        adjs.append(tok)\n",
    "        adjs.extend([right for right in tok.rights if tok.dep_ in ADJECTIVES])\n",
    "        tok_with_adj = \" \".join([adj.lower_ for adj in adjs])\n",
    "        toks_with_adjectives.extend(adjs)\n",
    "\n",
    "    return toks_with_adjectives\n",
    "\n",
    "def getObjsFromAttrs(deps):\n",
    "    for dep in deps:\n",
    "        if dep.pos_ == \"NOUN\" and dep.dep_ == \"attr\":\n",
    "            verbs = [tok for tok in dep.rights if tok.pos_ == \"VERB\"]\n",
    "            if len(verbs) > 0:\n",
    "                for v in verbs:\n",
    "                    rights = list(v.rights)\n",
    "                    objs = [tok for tok in rights if tok.dep_ in OBJECTS]\n",
    "                    objs.extend(getObjsFromPrepositions(rights))\n",
    "                    if len(objs) > 0:\n",
    "                        return v, objs\n",
    "    return None, None\n",
    "\n",
    "def getObjFromXComp(deps):\n",
    "    for dep in deps:\n",
    "        if dep.pos_ == \"VERB\" and dep.dep_ == \"xcomp\":\n",
    "            v = dep\n",
    "            rights = list(v.rights)\n",
    "            objs = [tok for tok in rights if tok.dep_ in OBJECTS]\n",
    "            objs.extend(getObjsFromPrepositions(rights))\n",
    "            if len(objs) > 0:\n",
    "                return v, objs\n",
    "    return None, None\n",
    "\n",
    "def getAllSubs(v):\n",
    "    verbNegated = isNegated(v)\n",
    "    subs = [tok for tok in v.lefts if tok.dep_ in SUBJECTS and tok.pos_ != \"DET\"]\n",
    "    if len(subs) > 0:\n",
    "        subs.extend(getSubsFromConjunctions(subs))\n",
    "    else:\n",
    "        foundSubs, verbNegated = findSubs(v)\n",
    "        subs.extend(foundSubs)\n",
    "    return subs, verbNegated\n",
    "\n",
    "def getAllObjs(v):\n",
    "    # rights is a generator\n",
    "    rights = list(v.rights)\n",
    "    objs = [tok for tok in rights if tok.dep_ in OBJECTS]\n",
    "    objs.extend(getObjsFromPrepositions(rights))\n",
    "\n",
    "    potentialNewVerb, potentialNewObjs = getObjFromXComp(rights)\n",
    "    if potentialNewVerb is not None and potentialNewObjs is not None and len(potentialNewObjs) > 0:\n",
    "        objs.extend(potentialNewObjs)\n",
    "        v = potentialNewVerb\n",
    "    if len(objs) > 0:\n",
    "        objs.extend(getObjsFromConjunctions(objs))\n",
    "    return v, objs\n",
    "\n",
    "def getAllObjsWithAdjectives(v):\n",
    "    # rights is a generator\n",
    "    rights = list(v.rights)\n",
    "    objs = [tok for tok in rights if tok.dep_ in OBJECTS]\n",
    "\n",
    "    if len(objs)== 0:\n",
    "        objs = [tok for tok in rights if tok.dep_ in ADJECTIVES]\n",
    "\n",
    "    objs.extend(getObjsFromPrepositions(rights))\n",
    "\n",
    "    potentialNewVerb, potentialNewObjs = getObjFromXComp(rights)\n",
    "    if potentialNewVerb is not None and potentialNewObjs is not None and len(potentialNewObjs) > 0:\n",
    "        objs.extend(potentialNewObjs)\n",
    "        v = potentialNewVerb\n",
    "    if len(objs) > 0:\n",
    "        objs.extend(getObjsFromConjunctions(objs))\n",
    "    return v, objs\n",
    "\n",
    "def findSVOs(tokens):\n",
    "    svos = []\n",
    "    verbs = [tok for tok in tokens if tok.pos_ == \"VERB\" and tok.dep_ != \"aux\"]\n",
    "    for v in verbs:\n",
    "        subs, verbNegated = getAllSubs(v)\n",
    "        # hopefully there are subs, if not, don't examine this verb any longer\n",
    "        if len(subs) > 0:\n",
    "            v, objs = getAllObjs(v)\n",
    "            for sub in subs:\n",
    "                for obj in objs:\n",
    "                    objNegated = isNegated(obj)\n",
    "                    svos.append((sub.lower_, \"!\" + v.lower_ if verbNegated or objNegated else v.lower_, obj.lower_))\n",
    "    return svos\n",
    "\n",
    "def findSVAOs(tokens):\n",
    "    svos = []\n",
    "    verbs = [tok for tok in tokens if tok.pos_ == \"VERB\" and tok.dep_ != \"aux\"]\n",
    "#     print(verbs)\n",
    "    for v in verbs:\n",
    "        subs, verbNegated = getAllSubs(v)\n",
    "        # hopefully there are subs, if not, don't examine this verb any longer\n",
    "        if len(subs) > 0:\n",
    "            v, objs = getAllObjsWithAdjectives(v)\n",
    "            for sub in subs:\n",
    "                for obj in objs:\n",
    "                    objNegated = isNegated(obj)\n",
    "                    obj_desc_tokens = generate_left_right_adjectives(obj)\n",
    "                    sub_compound = generate_sub_compound(sub)\n",
    "                    svos.append((\" \".join(tok.lower_ for tok in sub_compound), \"!\" + v.lower_ if verbNegated or objNegated else v.lower_, \" \".join(tok.lower_ for tok in obj_desc_tokens)))\n",
    "        if len(subs) == 0:\n",
    "            v, objs = getAllObjsWithAdjectives(v)\n",
    "            for obj in objs:\n",
    "                    objNegated = isNegated(obj)\n",
    "                    obj_desc_tokens = generate_left_right_adjectives(obj)\n",
    "#                     sub_compound = generate_sub_compound(sub)\n",
    "                    svos.append((\"!\" + v.lower_ if verbNegated or objNegated else v.lower_, \" \".join(tok.lower_ for tok in obj_desc_tokens)))\n",
    "\n",
    "    return svos\n",
    "\n",
    "def generate_sub_compound(sub):\n",
    "    sub_compunds = []\n",
    "    for tok in sub.lefts:\n",
    "        if tok.dep_ in COMPOUNDS:\n",
    "            sub_compunds.extend(generate_sub_compound(tok))\n",
    "    sub_compunds.append(sub)\n",
    "    for tok in sub.rights:\n",
    "        if tok.dep_ in COMPOUNDS:\n",
    "            sub_compunds.extend(generate_sub_compound(tok))\n",
    "    return sub_compunds\n",
    "\n",
    "def generate_left_right_adjectives(obj):\n",
    "    obj_desc_tokens = []\n",
    "    for tok in obj.lefts:\n",
    "        if tok.dep_ in ADJECTIVES:\n",
    "            obj_desc_tokens.extend(generate_left_right_adjectives(tok))\n",
    "    obj_desc_tokens.append(obj)\n",
    "\n",
    "    for tok in obj.rights:\n",
    "        if tok.dep_ in ADJECTIVES:\n",
    "            obj_desc_tokens.extend(generate_left_right_adjectives(tok))\n",
    "\n",
    "    return obj_desc_tokens"
   ]
  },
  {
   "cell_type": "code",
   "execution_count": 4,
   "metadata": {},
   "outputs": [
    {
     "name": "stdout",
     "output_type": "stream",
     "text": [
      "[finish]\n",
      "[('it', 'finish', 'cooking')]\n"
     ]
    }
   ],
   "source": [
    "# from spacy.lang.en import English\n",
    "# parser = English()\n",
    "\n",
    "import spacy \n",
    "parser = spacy.load('en', disable=['ner','textcat'])\n",
    "\n",
    "sentence = u\"\"\"\n",
    "It will finish cooking in the oven.\n",
    "\"\"\"\n",
    "\n",
    "parse = parser(sentence)\n",
    "print(findSVAOs(parse))"
   ]
  },
  {
   "cell_type": "code",
   "execution_count": 5,
   "metadata": {},
   "outputs": [
    {
     "name": "stdout",
     "output_type": "stream",
     "text": [
      "Slowly advmod add [] []\n",
      "add ROOT add ['Slowly'] ['milk', ',', 'whisking', '.']\n",
      "the det milk [] []\n",
      "milk dobj add ['the'] []\n",
      ", punct add [] []\n",
      "whisking advcl add [] ['constantly']\n",
      "constantly advmod whisking [] []\n",
      ". punct add [] []\n"
     ]
    }
   ],
   "source": [
    "import spacy \n",
    "parser = spacy.load('en')\n",
    "# Let's look at the dependencies of this example:\n",
    "example = \"Slowly add the milk, whisking constantly.\"\n",
    "parsedEx = parser(example)\n",
    "# shown as: original token, dependency tag, head word, left dependents, right dependents\n",
    "for token in parsedEx:\n",
    "    print(token.orth_, token.dep_, token.head.orth_, [t.orth_ for t in token.lefts], [t.orth_ for t in token.rights])"
   ]
  },
  {
   "cell_type": "code",
   "execution_count": 6,
   "metadata": {},
   "outputs": [
    {
     "name": "stdout",
     "output_type": "stream",
     "text": [
      "[preheat]\n",
      "Preheat the oven to 350 F. Butter or oil an 8-inch baking dish.    [('preheat', 'oven'), ('preheat', 'butter')]\n",
      "[cook]\n",
      "Cook the penne 2 minutes less than package directions.    [('cook', 'penne')]\n",
      "[finish]\n",
      "(It will finish cooking in the oven.)    [('it', 'finish', 'cooking')]\n",
      "[rinse, set]\n",
      "Rinse the pasta in cold water and set aside.    [('rinse', 'pasta'), ('set', 'aside')]\n",
      "[combine, cooked, mix]\n",
      "Combine the cooked pasta and the sauce in a medium bowl and mix carefully but thoroughly.    [('combine', 'cooked pasta'), ('combine', 'sauce'), ('mix', 'carefully')]\n",
      "[scrape]\n",
      "Scrape the pasta into the prepared baking dish.    [('scrape', 'pasta'), ('scrape', 'prepared dish')]\n",
      "[sprinkle]\n",
      "Sprinkle the top with the cheeses and then the chili powder.    [('sprinkle', 'top'), ('sprinkle', 'cheeses')]\n",
      "[uncovered]\n",
      "Bake, uncovered, for 20 minutes.    [('bake', 'uncovered', 'minutes')]\n",
      "[let, sit, serving]\n",
      "Let the mac and cheese sit for 5 minutes before serving.    [('let', 'sit'), ('mac', 'sit', 'minutes'), ('cheese', 'sit', 'minutes')]\n",
      "[melt, bottomed]\n",
      "Melt the butter in a heavy-bottomed saucepan over medium heat and whisk in the flour.    [('melt', 'butter'), ('melt', 'heavy bottomed saucepan')]\n",
      "[continue, cooking]\n",
      "Continue whisking and cooking for 2 minutes.    [('continue', 'whisking'), ('whisking', 'cooking', 'minutes')]\n",
      "[add, whisking]\n",
      "Slowly add the milk, whisking constantly.    [('add', 'milk'), ('whisking', 'constantly')]\n",
      "[cook, stirring]\n",
      "Cook until the sauce thickens, about 10 minutes, stirring frequently.    [('cook', 'thickens'), ('cook', 'stirring frequently'), ('stirring', 'frequently')]\n",
      "[remove]\n",
      "Remove from the heat.    [('remove', 'heat')]\n",
      "[add, chili]\n",
      "Add the cheeses, salt, chili powder, and garlic powder.    [('add', 'cheeses')]\n",
      "[stir, is, melted, are, incorporated]\n",
      "Stir until the cheese is melted and all ingredients are incorporated, about 3 minutes.    [('stir', 'melted'), ('stir', 'minutes')]\n",
      "[use, refrigerate]\n",
      "Use immediately, or refrigerate for up to 3 days.    [('use', 'immediately'), ('refrigerate', 'days')]\n",
      "[]\n",
      "This sauce reheats nicely on the stove in a saucepan over low heat.    []\n",
      "[stir, scorch]\n",
      "Stir frequently so the sauce doesnt scorch.    [('stir', 'frequently'), ('stir', 'nt scorch')]\n",
      "[be, assembled, baking, frozen, be, use, increase]\n",
      "This recipe can be assembled before baking and frozen for up to 3 monthsjust be sure to use a freezer-to-oven pan and increase the baking time to 50 minutes.    [('frozen', 'monthsjust'), ('be', 'sure use'), ('use', 'freezer'), ('increase', 'time'), ('increase', 'minutes')]\n",
      "[chili, makes, make, handle]\n",
      "One-half teaspoon of chipotle chili powder makes a spicy mac, so make sure your family and friends can handle it!    [('teaspoon', 'makes', 'spicy mac'), ('make', 'sure handle'), ('family', 'handle', 'it'), ('friends', 'handle', 'it')]\n",
      "[is]\n",
      "The proportion of pasta to cheese sauce is crucial to the success of the dish.    [('proportion', 'is', 'crucial')]\n",
      "[look, be, absorbed]\n",
      "It will look like a lot of sauce for the pasta, but some of the liquid will be absorbed.    [('it', 'look', 'lot'), ('it', 'look', 'pasta')]\n"
     ]
    }
   ],
   "source": [
    "import spacy \n",
    "parser = spacy.load('en', disable=['ner','textcat'])\n",
    "\n",
    "textInstructions = [ins['text'] for ins in firstRecipe['instructions']]\n",
    "\n",
    "for instruction in textInstructions:\n",
    "    parse = parser(instruction.lower())\n",
    "    print(instruction + \"    \" + str(findSVAOs(parse)))"
   ]
  },
  {
   "cell_type": "code",
   "execution_count": 28,
   "metadata": {},
   "outputs": [
    {
     "data": {
      "text/plain": [
       "'<svg xmlns=\"http://www.w3.org/2000/svg\" xmlns:xlink=\"http://www.w3.org/1999/xlink\" id=\"447-0\" class=\"displacy\" width=\"1450\" height=\"487.0\" style=\"max-width: none; height: 487.0px; color: #000000; background: #ffffff; font-family: Arial\">\\n<text class=\"displacy-token\" fill=\"currentColor\" text-anchor=\"middle\" y=\"397.0\">\\n    <tspan class=\"displacy-word\" fill=\"currentColor\" x=\"50\">Scrape</tspan>\\n    <tspan class=\"displacy-tag\" dy=\"2em\" fill=\"currentColor\" x=\"50\">PROPN</tspan>\\n</text>\\n\\n<text class=\"displacy-token\" fill=\"currentColor\" text-anchor=\"middle\" y=\"397.0\">\\n    <tspan class=\"displacy-word\" fill=\"currentColor\" x=\"225\">the</tspan>\\n    <tspan class=\"displacy-tag\" dy=\"2em\" fill=\"currentColor\" x=\"225\">DET</tspan>\\n</text>\\n\\n<text class=\"displacy-token\" fill=\"currentColor\" text-anchor=\"middle\" y=\"397.0\">\\n    <tspan class=\"displacy-word\" fill=\"currentColor\" x=\"400\">pasta</tspan>\\n    <tspan class=\"displacy-tag\" dy=\"2em\" fill=\"currentColor\" x=\"400\">NOUN</tspan>\\n</text>\\n\\n<text class=\"displacy-token\" fill=\"currentColor\" text-anchor=\"middle\" y=\"397.0\">\\n    <tspan class=\"displacy-word\" fill=\"currentColor\" x=\"575\">into</tspan>\\n    <tspan class=\"displacy-tag\" dy=\"2em\" fill=\"currentColor\" x=\"575\">ADP</tspan>\\n</text>\\n\\n<text class=\"displacy-token\" fill=\"currentColor\" text-anchor=\"middle\" y=\"397.0\">\\n    <tspan class=\"displacy-word\" fill=\"currentColor\" x=\"750\">the</tspan>\\n    <tspan class=\"displacy-tag\" dy=\"2em\" fill=\"currentColor\" x=\"750\">DET</tspan>\\n</text>\\n\\n<text class=\"displacy-token\" fill=\"currentColor\" text-anchor=\"middle\" y=\"397.0\">\\n    <tspan class=\"displacy-word\" fill=\"currentColor\" x=\"925\">prepared</tspan>\\n    <tspan class=\"displacy-tag\" dy=\"2em\" fill=\"currentColor\" x=\"925\">ADJ</tspan>\\n</text>\\n\\n<text class=\"displacy-token\" fill=\"currentColor\" text-anchor=\"middle\" y=\"397.0\">\\n    <tspan class=\"displacy-word\" fill=\"currentColor\" x=\"1100\">baking</tspan>\\n    <tspan class=\"displacy-tag\" dy=\"2em\" fill=\"currentColor\" x=\"1100\">NOUN</tspan>\\n</text>\\n\\n<text class=\"displacy-token\" fill=\"currentColor\" text-anchor=\"middle\" y=\"397.0\">\\n    <tspan class=\"displacy-word\" fill=\"currentColor\" x=\"1275\">dish</tspan>\\n    <tspan class=\"displacy-tag\" dy=\"2em\" fill=\"currentColor\" x=\"1275\">NOUN</tspan>\\n</text>\\n\\n<g class=\"displacy-arrow\">\\n    <path class=\"displacy-arc\" id=\"arrow-447-0-0\" stroke-width=\"2px\" d=\"M245,352.0 C245,264.5 385.0,264.5 385.0,352.0\" fill=\"none\" stroke=\"currentColor\"/>\\n    <text dy=\"1.25em\" style=\"font-size: 0.8em; letter-spacing: 1px\">\\n        <textPath xlink:href=\"#arrow-447-0-0\" class=\"displacy-label\" startOffset=\"50%\" fill=\"currentColor\" text-anchor=\"middle\">det</textPath>\\n    </text>\\n    <path class=\"displacy-arrowhead\" d=\"M245,354.0 L237,342.0 253,342.0\" fill=\"currentColor\"/>\\n</g>\\n\\n<g class=\"displacy-arrow\">\\n    <path class=\"displacy-arc\" id=\"arrow-447-0-1\" stroke-width=\"2px\" d=\"M70,352.0 C70,177.0 390.0,177.0 390.0,352.0\" fill=\"none\" stroke=\"currentColor\"/>\\n    <text dy=\"1.25em\" style=\"font-size: 0.8em; letter-spacing: 1px\">\\n        <textPath xlink:href=\"#arrow-447-0-1\" class=\"displacy-label\" startOffset=\"50%\" fill=\"currentColor\" text-anchor=\"middle\">dobj</textPath>\\n    </text>\\n    <path class=\"displacy-arrowhead\" d=\"M390.0,354.0 L398.0,342.0 382.0,342.0\" fill=\"currentColor\"/>\\n</g>\\n\\n<g class=\"displacy-arrow\">\\n    <path class=\"displacy-arc\" id=\"arrow-447-0-2\" stroke-width=\"2px\" d=\"M70,352.0 C70,89.5 570.0,89.5 570.0,352.0\" fill=\"none\" stroke=\"currentColor\"/>\\n    <text dy=\"1.25em\" style=\"font-size: 0.8em; letter-spacing: 1px\">\\n        <textPath xlink:href=\"#arrow-447-0-2\" class=\"displacy-label\" startOffset=\"50%\" fill=\"currentColor\" text-anchor=\"middle\">prep</textPath>\\n    </text>\\n    <path class=\"displacy-arrowhead\" d=\"M570.0,354.0 L578.0,342.0 562.0,342.0\" fill=\"currentColor\"/>\\n</g>\\n\\n<g class=\"displacy-arrow\">\\n    <path class=\"displacy-arc\" id=\"arrow-447-0-3\" stroke-width=\"2px\" d=\"M770,352.0 C770,89.5 1270.0,89.5 1270.0,352.0\" fill=\"none\" stroke=\"currentColor\"/>\\n    <text dy=\"1.25em\" style=\"font-size: 0.8em; letter-spacing: 1px\">\\n        <textPath xlink:href=\"#arrow-447-0-3\" class=\"displacy-label\" startOffset=\"50%\" fill=\"currentColor\" text-anchor=\"middle\">det</textPath>\\n    </text>\\n    <path class=\"displacy-arrowhead\" d=\"M770,354.0 L762,342.0 778,342.0\" fill=\"currentColor\"/>\\n</g>\\n\\n<g class=\"displacy-arrow\">\\n    <path class=\"displacy-arc\" id=\"arrow-447-0-4\" stroke-width=\"2px\" d=\"M945,352.0 C945,177.0 1265.0,177.0 1265.0,352.0\" fill=\"none\" stroke=\"currentColor\"/>\\n    <text dy=\"1.25em\" style=\"font-size: 0.8em; letter-spacing: 1px\">\\n        <textPath xlink:href=\"#arrow-447-0-4\" class=\"displacy-label\" startOffset=\"50%\" fill=\"currentColor\" text-anchor=\"middle\">amod</textPath>\\n    </text>\\n    <path class=\"displacy-arrowhead\" d=\"M945,354.0 L937,342.0 953,342.0\" fill=\"currentColor\"/>\\n</g>\\n\\n<g class=\"displacy-arrow\">\\n    <path class=\"displacy-arc\" id=\"arrow-447-0-5\" stroke-width=\"2px\" d=\"M1120,352.0 C1120,264.5 1260.0,264.5 1260.0,352.0\" fill=\"none\" stroke=\"currentColor\"/>\\n    <text dy=\"1.25em\" style=\"font-size: 0.8em; letter-spacing: 1px\">\\n        <textPath xlink:href=\"#arrow-447-0-5\" class=\"displacy-label\" startOffset=\"50%\" fill=\"currentColor\" text-anchor=\"middle\">compound</textPath>\\n    </text>\\n    <path class=\"displacy-arrowhead\" d=\"M1120,354.0 L1112,342.0 1128,342.0\" fill=\"currentColor\"/>\\n</g>\\n\\n<g class=\"displacy-arrow\">\\n    <path class=\"displacy-arc\" id=\"arrow-447-0-6\" stroke-width=\"2px\" d=\"M595,352.0 C595,2.0 1275.0,2.0 1275.0,352.0\" fill=\"none\" stroke=\"currentColor\"/>\\n    <text dy=\"1.25em\" style=\"font-size: 0.8em; letter-spacing: 1px\">\\n        <textPath xlink:href=\"#arrow-447-0-6\" class=\"displacy-label\" startOffset=\"50%\" fill=\"currentColor\" text-anchor=\"middle\">pobj</textPath>\\n    </text>\\n    <path class=\"displacy-arrowhead\" d=\"M1275.0,354.0 L1283.0,342.0 1267.0,342.0\" fill=\"currentColor\"/>\\n</g>\\n</svg>'"
      ]
     },
     "execution_count": 28,
     "metadata": {},
     "output_type": "execute_result"
    }
   ],
   "source": [
    "import spacy\n",
    "from spacy import displacy\n",
    "\n",
    "nlp = spacy.load(\"en\")\n",
    "doc = nlp(\"Scrape the pasta into the prepared baking dish\")\n",
    "displacy.render(doc, style=\"dep\")\n",
    "# str(findSVAOs(doc))"
   ]
  },
  {
   "cell_type": "code",
   "execution_count": 22,
   "metadata": {},
   "outputs": [
    {
     "name": "stdout",
     "output_type": "stream",
     "text": [
      "[preheat]\n",
      "Preheat the oven to 350 F.    [('preheat', 'oven'), ('preheat', '350')]\n",
      "[cook]\n",
      "Cook the penne 2 minutes less than package directions.    [('cook', 'penne')]\n",
      "[finish]\n",
      "(It will finish cooking in the oven.)    [('it', 'finish', 'cooking')]\n",
      "[rinse, set]\n",
      "Rinse the pasta in cold water and set aside.    [('rinse', 'pasta'), ('set', 'aside')]\n",
      "[combine, cooked, mix]\n",
      "Combine the cooked pasta and the sauce in a medium bowl and mix carefully but thoroughly.    [('combine', 'cooked pasta'), ('combine', 'sauce'), ('mix', 'carefully')]\n",
      "[scrape]\n",
      "Scrape the pasta into the prepared baking dish.    [('scrape', 'pasta'), ('scrape', 'prepared dish')]\n",
      "[sprinkle]\n",
      "Sprinkle the top with the cheeses and then the chili powder.    [('sprinkle', 'top'), ('sprinkle', 'cheeses')]\n",
      "[uncovered]\n",
      "Bake, uncovered, for 20 minutes.    [('bake', 'uncovered', '20 minutes')]\n",
      "[let, sit, serving]\n",
      "Let the mac and cheese sit for 5 minutes before serving.    [('let', 'sit'), ('mac', 'sit', '5 minutes'), ('cheese', 'sit', '5 minutes')]\n",
      "[melt, bottomed]\n",
      "Melt the butter in a heavy-bottomed saucepan over medium heat and whisk in the flour.    [('melt', 'butter'), ('melt', 'heavy bottomed saucepan')]\n",
      "[continue, cooking]\n",
      "Continue whisking and cooking for 2 minutes.    [('continue', 'whisking'), ('whisking', 'cooking', '2 minutes')]\n",
      "[add, whisking]\n",
      "Slowly add the milk, whisking constantly.    [('add', 'milk'), ('whisking', 'constantly')]\n",
      "[cook, stirring]\n",
      "Cook until the sauce thickens, about 10 minutes, stirring frequently.    [('cook', 'thickens'), ('cook', 'stirring frequently'), ('stirring', 'frequently')]\n",
      "[remove]\n",
      "Remove from the heat.    [('remove', 'heat')]\n",
      "[add, chili]\n",
      "Add the cheeses, salt, chili powder, and garlic powder.    [('add', 'cheeses')]\n",
      "[stir, is, melted, are, incorporated]\n",
      "Stir until the cheese is melted and all ingredients are incorporated, about 3 minutes.    [('stir', 'melted'), ('stir', 'about 3 minutes')]\n",
      "[use, refrigerate]\n",
      "Use immediately, or refrigerate for up to 3 days.    [('use', 'immediately'), ('refrigerate', '3 days')]\n",
      "[]\n",
      "This sauce reheats nicely on the stove in a saucepan over low heat.    []\n",
      "[stir, scorch]\n",
      "Stir frequently so the sauce doesnt scorch.    [('stir', 'frequently'), ('stir', 'nt scorch')]\n",
      "[be, assembled, baking, frozen, be, use, increase]\n",
      "This recipe can be assembled before baking and frozen for up to 3 monthsjust be sure to use a freezer-to-oven pan and increase the baking time to 50 minutes.    [('frozen', '3 monthsjust'), ('be', 'sure use'), ('use', 'freezer'), ('increase', 'time'), ('increase', '50 minutes')]\n",
      "[chili, makes, make, handle]\n",
      "One-half teaspoon of chipotle chili powder makes a spicy mac, so make sure your family and friends can handle it!    [('teaspoon', 'makes', 'spicy mac'), ('make', 'sure handle'), ('family', 'handle', 'it'), ('friends', 'handle', 'it')]\n",
      "[is]\n",
      "The proportion of pasta to cheese sauce is crucial to the success of the dish.    [('proportion', 'is', 'crucial')]\n",
      "[look, be, absorbed]\n",
      "It will look like a lot of sauce for the pasta, but some of the liquid will be absorbed.    [('it', 'look', 'lot'), ('it', 'look', 'pasta')]\n"
     ]
    }
   ],
   "source": [
    "import spacy \n",
    "parser = spacy.load('en', disable=['ner','textcat'])\n",
    "\n",
    "textInstructions = [ins['text'] for ins in firstRecipe['instructions']]\n",
    "\n",
    "for instruction in textInstructions:\n",
    "    parse = parser(instruction.lower())\n",
    "    print(instruction + \"    \" + str(findSVAOs(parse)))"
   ]
  },
  {
   "cell_type": "code",
   "execution_count": 20,
   "metadata": {},
   "outputs": [
    {
     "name": "stdout",
     "output_type": "stream",
     "text": [
      "[butter]\n",
      "[('butter', 'salt')]\n"
     ]
    }
   ],
   "source": [
    "parse = parser(\"butter the salt\".lower())\n",
    "print(str(findSVAOs(parse)))"
   ]
  },
  {
   "cell_type": "code",
   "execution_count": 33,
   "metadata": {},
   "outputs": [],
   "source": [
    "import json\n",
    "data = {}\n",
    "with open('all-steps.json') as json_file:\n",
    "    data = json.load(json_file)"
   ]
  },
  {
   "cell_type": "code",
   "execution_count": 60,
   "metadata": {},
   "outputs": [],
   "source": [
    "import re\n",
    "steps = list(filter(lambda x: x.strip() != \"\",re.sub(\"\\t\" , \" \", data[0]['steps']).split('|')))"
   ]
  },
  {
   "cell_type": "code",
   "execution_count": 78,
   "metadata": {},
   "outputs": [],
   "source": [
    "data_list = [{ 'Recipe_id': recipe['Recipe_id'],\n",
    "    \"Steps\": [x for x in re.sub(\"\\t\" , \" \", recipe['steps']).split('|') if x.strip() != \"\"], \n",
    "} for recipe in data ]\n",
    "    "
   ]
  },
  {
   "cell_type": "code",
   "execution_count": 96,
   "metadata": {},
   "outputs": [],
   "source": [
    "with open('all_steps_list.json', 'w') as outfile:\n",
    "    json.dump(data_list[:40000], outfile)"
   ]
  },
  {
   "cell_type": "code",
   "execution_count": 95,
   "metadata": {},
   "outputs": [],
   "source": [
    "import spacy \n",
    "parser = spacy.load('en', disable=['ner','textcat'])\n",
    "\n",
    "# textInstructions = [ins['text'] for ins in firstRecipe['instructions']]\n",
    "count = 0 \n",
    "for recipe in data_list:\n",
    "    count = count + 1\n",
    "    tuples = []\n",
    "    for instruction in recipe['Steps']:\n",
    "        parse = parser(instruction.lower())\n",
    "        tuples.append(findSVAOs(parse))\n",
    "        data_list[count-1]['Tuples'] = tuples\n",
    "    if count % 10 == 0:\n",
    "        print(count)\n"
   ]
  },
  {
   "cell_type": "code",
   "execution_count": 94,
   "metadata": {},
   "outputs": [
    {
     "data": {
      "text/plain": [
       "{'Recipe_id': '42612',\n",
       " 'Steps': [' 1. Frost the cupcakes with your favorite butter cream recipe. ',\n",
       "  \" 2. Here are some tips for making your Cupcake Tree: Cake is easier to handle, and less crumbly when baked a day ahead and refrigerated. Tint and flavor the frosting for your party theme. Dip your knife in hot water before frosting for a smoother look. Decorate the cupcakes with fresh berries. Using a tiered pastry tree, work from the inside out stacking your cupcakes. If you don't have a pastry tree you can make one using platters and fabric-covered tin cans placed in the middle of the platters. Fill in the holes between the cupcakes with chocolate dipped and plain strawberries. \",\n",
       "  ' 3. Bring your holiday guests together with this pretty, party-ready bread. ',\n",
       "  ' 4. Get an editor-picked recipe delivered to your inbox daily.  Privacy Policy ',\n",
       "  ' 5. ',\n",
       "  ' 6. ',\n",
       "  ' 7. Watch Holiday Obsessions ',\n",
       "  ' ---------------------------------------------------------------------------'],\n",
       " 'Tuples': [[],\n",
       "  [('tips', 'making', 'your tree'),\n",
       "   ('cake', 'is', 'easier handle'),\n",
       "   ('tips', 'baked', 'day ahead'),\n",
       "   ('tint', 'flavor', 'frosting'),\n",
       "   ('tint', 'flavor', 'for'),\n",
       "   ('dip', 'your knife'),\n",
       "   ('dip', 'hot water'),\n",
       "   ('dip', 'frosting'),\n",
       "   ('frosting', 'smoother look'),\n",
       "   ('decorate', 'cupcakes'),\n",
       "   ('decorate', 'fresh berries'),\n",
       "   ('using', 'tiered tree'),\n",
       "   ('work', 'out'),\n",
       "   ('work', 'stacking'),\n",
       "   ('work', 'inside'),\n",
       "   ('stacking', 'your cupcakes'),\n",
       "   ('you', '!have', 'tree'),\n",
       "   ('you', 'make', 'using'),\n",
       "   ('one', 'using', 'platters'),\n",
       "   ('one', 'using', 'covered cans'),\n",
       "   ('platters', 'placed', 'middle'),\n",
       "   ('fill', 'holes'),\n",
       "   ('fill', 'dipped strawberries')],\n",
       "  [('3', 'bring', 'your guests'), ('3', 'bring', 'pretty ready bread')],\n",
       "  [('4', 'get', 'picked recipe'),\n",
       "   ('recipe', 'delivered', 'daily'),\n",
       "   ('recipe', 'delivered', 'your inbox')],\n",
       "  [],\n",
       "  [],\n",
       "  [('watch', 'obsessions')],\n",
       "  []]}"
      ]
     },
     "execution_count": 94,
     "metadata": {},
     "output_type": "execute_result"
    }
   ],
   "source": [
    "data_list[40002]"
   ]
  },
  {
   "cell_type": "code",
   "execution_count": 113,
   "metadata": {},
   "outputs": [],
   "source": [
    "RawListOfInstructions = [recipe[\"Tuples\"] for recipe in data_list[:40000]]"
   ]
  },
  {
   "cell_type": "code",
   "execution_count": 156,
   "metadata": {},
   "outputs": [],
   "source": [
    "plottable_data = [[ len(instruction) for instruction in recipe if len(instruction) != 0] for recipe in RawListOfInstructions]"
   ]
  },
  {
   "cell_type": "code",
   "execution_count": 157,
   "metadata": {},
   "outputs": [],
   "source": [
    "flat_list_no_of_tuples = [item for sublist in plottable_data for item in sublist]"
   ]
  },
  {
   "cell_type": "code",
   "execution_count": 158,
   "metadata": {},
   "outputs": [],
   "source": [
    "def Average(lst): \n",
    "    return sum(lst) / len(lst) \n",
    "averageTuplesPerInstruction = Average(flat_list_no_of_tuples)"
   ]
  },
  {
   "cell_type": "code",
   "execution_count": 159,
   "metadata": {},
   "outputs": [
    {
     "name": "stdout",
     "output_type": "stream",
     "text": [
      "mean = 6.164966958589623\n",
      "stddev = 5.700367648650029\n"
     ]
    }
   ],
   "source": [
    "from statistics import stdev \n",
    "print(\"mean = \" + str(averageTuplesPerInstruction))\n",
    "print(\"stddev = \" + str(stdev(flat_list_no_of_tuples, xbar = averageTuplesPerInstruction)))\n"
   ]
  },
  {
   "cell_type": "code",
   "execution_count": 160,
   "metadata": {},
   "outputs": [
    {
     "data": {
      "text/plain": [
       "(0, 11)"
      ]
     },
     "execution_count": 160,
     "metadata": {},
     "output_type": "execute_result"
    },
    {
     "data": {
      "image/png": "[encoded data removed]",
      "text/plain": [
       "<Figure size 432x288 with 1 Axes>"
      ]
     },
     "metadata": {
      "needs_background": "light"
     },
     "output_type": "display_data"
    }
   ],
   "source": [
    "from collections import Counter\n",
    "import pandas\n",
    "count = Counter(flat_list_no_of_tuples)\n",
    "df = pandas.DataFrame.from_dict(count, orient='index')\n",
    "df.sort_index(inplace=True)\n",
    "ax= df.plot(kind='bar')\n",
    "ax.set_xlim(0, 11)\n"
   ]
  },
  {
   "cell_type": "code",
   "execution_count": 162,
   "metadata": {},
   "outputs": [
    {
     "data": {
      "text/plain": [
       "174932"
      ]
     },
     "execution_count": 162,
     "metadata": {},
     "output_type": "execute_result"
    }
   ],
   "source": [
    "len(flat_list_no_of_tuples)"
   ]
  },
  {
   "cell_type": "code",
   "execution_count": null,
   "metadata": {},
   "outputs": [],
   "source": []
  }
 ],
 "metadata": {
  "kernelspec": {
   "display_name": "Python 3",
   "language": "python",
   "name": "python3"
  },
  "language_info": {
   "codemirror_mode": {
    "name": "ipython",
    "version": 3
   },
   "file_extension": ".py",
   "mimetype": "text/x-python",
   "name": "python",
   "nbconvert_exporter": "python",
   "pygments_lexer": "ipython3",
   "version": "3.7.4"
  }
 },
 "nbformat": 4,
 "nbformat_minor": 4
}
